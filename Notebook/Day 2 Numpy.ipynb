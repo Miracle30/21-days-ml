{
 "cells": [
  {
   "cell_type": "code",
   "execution_count": 2,
   "id": "f558b4b4",
   "metadata": {},
   "outputs": [],
   "source": [
    "import numpy as np"
   ]
  },
  {
   "cell_type": "markdown",
   "id": "8135688f",
   "metadata": {},
   "source": [
    "## Create Vector"
   ]
  },
  {
   "cell_type": "code",
   "execution_count": 6,
   "id": "1a308acb",
   "metadata": {},
   "outputs": [
    {
     "name": "stdout",
     "output_type": "stream",
     "text": [
      "[10 15 20]\n",
      "nhập toạ độ x\n",
      "10\n",
      "nhập toạ độ y\n",
      "15\n",
      "nhập toạ độ z\n",
      "20\n",
      "[[10]\n",
      " [15]\n",
      " [20]]\n"
     ]
    }
   ],
   "source": [
    "#create a row vector\n",
    "row_vector = np.array([10,15,20])\n",
    "print(row_vector)\n",
    "\n",
    "#create a col vector\n",
    "print('nhập toạ độ x')\n",
    "cor_x = int(input())\n",
    "print('nhập toạ độ y')\n",
    "cor_y = int(input())\n",
    "print('nhập toạ độ z')\n",
    "cor_z = int(input())\n",
    "col_vector = np.array([[cor_x],[cor_y],[cor_z]])\n",
    "print(col_vector)"
   ]
  },
  {
   "cell_type": "markdown",
   "id": "cb1e2d35",
   "metadata": {},
   "source": [
    "## Create Matrix"
   ]
  },
  {
   "cell_type": "code",
   "execution_count": 53,
   "id": "698caeb1",
   "metadata": {
    "scrolled": true
   },
   "outputs": [
    {
     "name": "stdout",
     "output_type": "stream",
     "text": [
      "[[10 20 30]\n",
      " [40 50 60]]\n",
      "[[0. 0. 0. 0.]\n",
      " [0. 0. 0. 0.]\n",
      " [0. 0. 0. 0.]\n",
      " [0. 0. 0. 0.]]\n",
      "[[1. 1. 1.]\n",
      " [1. 1. 1.]\n",
      " [1. 1. 1.]]\n",
      "[6 0 1 6]\n",
      "[ 1.44954734 -0.47013859  0.60596227]\n"
     ]
    }
   ],
   "source": [
    "#tạo ma trận \n",
    "matrix = np.array([[10,20,30], [40,50,60]])\n",
    "print(matrix)\n",
    "\n",
    "#tạo ma trận 0\n",
    "matrix_zero = np.zeros([4,4])\n",
    "print(matrix_zero)\n",
    "\n",
    "#tạo ma trận 1\n",
    "matrix_one = np.ones([3,3])\n",
    "print(matrix_one)\n",
    "\n",
    "#tạo ngẫu nhiên 4 số từ 0 đến 10 (ma trận hàng)\n",
    "matrix_random_value = np.random.randint(0,10,4)\n",
    "print(matrix_random_value)\n",
    "\n",
    "#3 số từ mean(1.0) và std(2.0)\n",
    "print(np.random.normal(1.0,2.0,3))"
   ]
  },
  {
   "cell_type": "code",
   "execution_count": 22,
   "id": "aa230b20",
   "metadata": {},
   "outputs": [
    {
     "name": "stdout",
     "output_type": "stream",
     "text": [
      "(3, 3)\n",
      "9\n",
      "2\n"
     ]
    }
   ],
   "source": [
    "#number of col and row of matrix\n",
    "print(matrix.shape)\n",
    "\n",
    "#number of elements (m*n)\n",
    "print(matrix.size)\n",
    "\n",
    "#number of dimensions \n",
    "print(matrix.ndim)"
   ]
  },
  {
   "cell_type": "markdown",
   "id": "3c0dca48",
   "metadata": {},
   "source": [
    "## Accessing Element"
   ]
  },
  {
   "cell_type": "code",
   "execution_count": 19,
   "id": "b97b35ac",
   "metadata": {},
   "outputs": [
    {
     "name": "stdout",
     "output_type": "stream",
     "text": [
      "*row vector: \n",
      " [10 20 30 40 50 60]\n",
      "*matrix: \n",
      " [[10 20 30]\n",
      " [40 50 60]\n",
      " [70 80 90]]\n",
      "*2nd element of vector: 20\n",
      "*3rd row 3rd column: 90\n",
      "*All element of vector: [10 20 30 40 50 60]\n",
      "*Last element of vector: 60\n",
      "*First 2 rows and all the columns:\n",
      " [[10 20 30]\n",
      " [40 50 60]]\n"
     ]
    }
   ],
   "source": [
    "row_vector = np.array([10,20,30,40,50,60])\n",
    "matrix = np.array ([[10,20,30],[40,50,60],[70,80,90]])\n",
    "print('*row vector: \\n',row_vector)\n",
    "print('*matrix: \\n',matrix)\n",
    "\n",
    "print('*2nd element of vector:', row_vector[1])\n",
    "print('*3rd row 3rd column:', matrix[2,2])\n",
    "print('*All element of vector:', row_vector[:])\n",
    "print('*Last element of vector:', row_vector[-1])\n",
    "print('*First 2 rows and all the columns:\\n', matrix[:2,:])"
   ]
  },
  {
   "cell_type": "markdown",
   "id": "fa5d80ed",
   "metadata": {},
   "source": [
    "## Min and Max"
   ]
  },
  {
   "cell_type": "code",
   "execution_count": 27,
   "id": "7e590035",
   "metadata": {},
   "outputs": [
    {
     "name": "stdout",
     "output_type": "stream",
     "text": [
      "The max element is 90\n",
      "The min element is 10\n",
      "The max element in each column [70 80 90]\n",
      "The max element in each row [30 60 90]\n",
      "The average of matrix is 50.0\n"
     ]
    }
   ],
   "source": [
    "print('The max element is', np.max(matrix))\n",
    "print('The min element is', np.min(matrix))\n",
    "print('The max element in each column', np.max(matrix, axis=0))\n",
    "print('The max element in each row', np.max(matrix, axis=1))\n",
    "print('The average of matrix is', np.mean(matrix))"
   ]
  },
  {
   "cell_type": "markdown",
   "id": "56d621da",
   "metadata": {},
   "source": [
    "## Reshape"
   ]
  },
  {
   "cell_type": "code",
   "execution_count": 33,
   "id": "5e141362",
   "metadata": {},
   "outputs": [
    {
     "name": "stdout",
     "output_type": "stream",
     "text": [
      "[[10]\n",
      " [20]\n",
      " [30]\n",
      " [40]\n",
      " [50]\n",
      " [60]\n",
      " [70]\n",
      " [80]\n",
      " [90]]\n",
      "[[10 20 30 40 50 60 70 80 90]]\n",
      "[10 20 30 40 50 60 70 80 90]\n",
      "convert to 1-d array\n",
      " [10 20 30 40 50 60 70 80 90]\n"
     ]
    }
   ],
   "source": [
    "print(matrix.reshape(9,1))\n",
    "print(matrix.reshape(1,-1))\n",
    "print(matrix.reshape(9))\n",
    "print('convert to 1-d array\\n',matrix.flatten())"
   ]
  },
  {
   "cell_type": "markdown",
   "id": "5ecdaebc",
   "metadata": {},
   "source": [
    "## Transpose"
   ]
  },
  {
   "cell_type": "code",
   "execution_count": 34,
   "id": "013498ac",
   "metadata": {},
   "outputs": [
    {
     "name": "stdout",
     "output_type": "stream",
     "text": [
      "[[10 40 70]\n",
      " [20 50 80]\n",
      " [30 60 90]]\n"
     ]
    }
   ],
   "source": [
    "print(matrix.T)"
   ]
  },
  {
   "cell_type": "markdown",
   "id": "5c3ddfe9",
   "metadata": {},
   "source": [
    "## Diagonal Lấy đường chéo chính"
   ]
  },
  {
   "cell_type": "code",
   "execution_count": 35,
   "id": "8d99807e",
   "metadata": {},
   "outputs": [
    {
     "name": "stdout",
     "output_type": "stream",
     "text": [
      "[10 50 90]\n"
     ]
    }
   ],
   "source": [
    "print(matrix.diagonal())"
   ]
  },
  {
   "cell_type": "markdown",
   "id": "a33615c1",
   "metadata": {},
   "source": [
    "## Adding, Subtracting and Multiplying Matrices"
   ]
  },
  {
   "cell_type": "code",
   "execution_count": 45,
   "id": "cb98e483",
   "metadata": {},
   "outputs": [
    {
     "name": "stdout",
     "output_type": "stream",
     "text": [
      "cộng 2 ma trận:\n",
      " [[ 8 10 12]\n",
      " [ 8 10 12]\n",
      " [ 8 10 12]]\n",
      "trừ 2 ma trận:\n",
      " [[-6 -6 -6]\n",
      " [ 0  0  0]\n",
      " [ 6  6  6]]\n",
      "nhân 2 ma trận:\n",
      " [[ 18  24  30]\n",
      " [ 54  69  84]\n",
      " [ 90 114 138]]\n",
      "x3 ma trận đầu:\n",
      " [[ 3  6  9]\n",
      " [12 15 18]\n",
      " [21 24 27]]\n",
      "chia 2 ma trận:\n",
      " [[ 18  24  30]\n",
      " [ 54  69  84]\n",
      " [ 90 114 138]]\n"
     ]
    }
   ],
   "source": [
    "matrix_1 = np.array([[1,2,3],[4,5,6],[7,8,9]])\n",
    "matrix_2 = np.array([[7,8,9],[4,5,6],[1,2,3]]) \n",
    "print('cộng 2 ma trận:\\n',np.add(matrix_1, matrix_2))\n",
    "print('trừ 2 ma trận:\\n',np.subtract(matrix_1, matrix_2))\n",
    "print('nhân 2 ma trận:\\n',matrix_1.dot(matrix_2))\n",
    "print('x3 ma trận đầu:\\n',matrix_1*3)\n",
    "print('chia 2 ma trận:\\n',np.matmul(matrix_1, matrix_2))"
   ]
  },
  {
   "cell_type": "code",
   "execution_count": null,
   "id": "e513dec0",
   "metadata": {},
   "outputs": [],
   "source": []
  }
 ],
 "metadata": {
  "kernelspec": {
   "display_name": "Python 3 (ipykernel)",
   "language": "python",
   "name": "python3"
  },
  "language_info": {
   "codemirror_mode": {
    "name": "ipython",
    "version": 3
   },
   "file_extension": ".py",
   "mimetype": "text/x-python",
   "name": "python",
   "nbconvert_exporter": "python",
   "pygments_lexer": "ipython3",
   "version": "3.8.1"
  }
 },
 "nbformat": 4,
 "nbformat_minor": 5
}
