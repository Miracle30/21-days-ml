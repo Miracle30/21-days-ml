{
 "cells": [
  {
   "cell_type": "code",
   "execution_count": 2,
   "id": "56dec72f",
   "metadata": {},
   "outputs": [],
   "source": [
    "import pandas as pd"
   ]
  },
  {
   "cell_type": "markdown",
   "id": "36359fb0",
   "metadata": {},
   "source": [
    "## Tạo DataFrame\n",
    "- pd.DataFrame(dict)\n",
    "## Import DataFrame\n",
    "- data = pd.read_csv('vị trí file csv')\n",
    "- data.head(số row)\n",
    "- data.info() -> cụ thể về data\n",
    "- data.shape -> số dòng số cột\n",
    "- data.columns -> trả về object các label của cột\n",
    "- data[Tên cột].value_counts() -> Đếm số lần xuất hiện của các giá trị của cột đó\n",
    "- data[tên cột].unique() -> trả về một array object các giá trị (kiểu select distinc)\n",
    "## Truy cập đến cột (col)\n",
    "- data[tên cột] \n",
    "- data[[tên cột1, tên cột 2]]\n",
    "## Truy cập đến hàng (row)\n",
    "- data.iloc[].values\n",
    "- data.loc \n",
    "## Filter data\n",
    "- new_data= data['tên cột'] =='giá trị'\n",
    "## Sắp xếp\n",
    "- data.sort_values(\"tên cột\")\n",
    "## Grouping & Aggregate\n",
    "- group_data= data.groupby(['tên cột'])\n",
    "- group_data.size()\n",
    "- group_data.count()"
   ]
  },
  {
   "cell_type": "code",
   "execution_count": null,
   "id": "69f86452",
   "metadata": {},
   "outputs": [],
   "source": []
  }
 ],
 "metadata": {
  "kernelspec": {
   "display_name": "Python 3 (ipykernel)",
   "language": "python",
   "name": "python3"
  },
  "language_info": {
   "codemirror_mode": {
    "name": "ipython",
    "version": 3
   },
   "file_extension": ".py",
   "mimetype": "text/x-python",
   "name": "python",
   "nbconvert_exporter": "python",
   "pygments_lexer": "ipython3",
   "version": "3.8.1"
  }
 },
 "nbformat": 4,
 "nbformat_minor": 5
}
